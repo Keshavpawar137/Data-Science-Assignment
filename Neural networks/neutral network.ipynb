{
 "cells": [
  {
   "cell_type": "code",
   "execution_count": null,
   "id": "4fcbea57-b0eb-4b54-897a-c20afe536502",
   "metadata": {},
   "outputs": [],
   "source": []
  },
  {
   "cell_type": "code",
   "execution_count": 1,
   "id": "f2d7175f-81c6-4bde-955f-0a1cf9b86656",
   "metadata": {},
   "outputs": [],
   "source": [
    "import pandas as pd\n"
   ]
  },
  {
   "cell_type": "code",
   "execution_count": 2,
   "id": "6992560b-719e-41c1-b3c6-2b14d14f724a",
   "metadata": {},
   "outputs": [
    {
     "data": {
      "text/html": [
       "<div>\n",
       "<style scoped>\n",
       "    .dataframe tbody tr th:only-of-type {\n",
       "        vertical-align: middle;\n",
       "    }\n",
       "\n",
       "    .dataframe tbody tr th {\n",
       "        vertical-align: top;\n",
       "    }\n",
       "\n",
       "    .dataframe thead th {\n",
       "        text-align: right;\n",
       "    }\n",
       "</style>\n",
       "<table border=\"1\" class=\"dataframe\">\n",
       "  <thead>\n",
       "    <tr style=\"text-align: right;\">\n",
       "      <th></th>\n",
       "      <th>letter</th>\n",
       "      <th>xbox</th>\n",
       "      <th>ybox</th>\n",
       "      <th>width</th>\n",
       "      <th>height</th>\n",
       "      <th>onpix</th>\n",
       "      <th>xbar</th>\n",
       "      <th>ybar</th>\n",
       "      <th>x2bar</th>\n",
       "      <th>y2bar</th>\n",
       "      <th>xybar</th>\n",
       "      <th>x2ybar</th>\n",
       "      <th>xy2bar</th>\n",
       "      <th>xedge</th>\n",
       "      <th>xedgey</th>\n",
       "      <th>yedge</th>\n",
       "      <th>yedgex</th>\n",
       "    </tr>\n",
       "  </thead>\n",
       "  <tbody>\n",
       "    <tr>\n",
       "      <th>0</th>\n",
       "      <td>T</td>\n",
       "      <td>2</td>\n",
       "      <td>8</td>\n",
       "      <td>3</td>\n",
       "      <td>5</td>\n",
       "      <td>1</td>\n",
       "      <td>8</td>\n",
       "      <td>13</td>\n",
       "      <td>0</td>\n",
       "      <td>6</td>\n",
       "      <td>6</td>\n",
       "      <td>10</td>\n",
       "      <td>8</td>\n",
       "      <td>0</td>\n",
       "      <td>8</td>\n",
       "      <td>0</td>\n",
       "      <td>8</td>\n",
       "    </tr>\n",
       "    <tr>\n",
       "      <th>1</th>\n",
       "      <td>I</td>\n",
       "      <td>5</td>\n",
       "      <td>12</td>\n",
       "      <td>3</td>\n",
       "      <td>7</td>\n",
       "      <td>2</td>\n",
       "      <td>10</td>\n",
       "      <td>5</td>\n",
       "      <td>5</td>\n",
       "      <td>4</td>\n",
       "      <td>13</td>\n",
       "      <td>3</td>\n",
       "      <td>9</td>\n",
       "      <td>2</td>\n",
       "      <td>8</td>\n",
       "      <td>4</td>\n",
       "      <td>10</td>\n",
       "    </tr>\n",
       "    <tr>\n",
       "      <th>2</th>\n",
       "      <td>D</td>\n",
       "      <td>4</td>\n",
       "      <td>11</td>\n",
       "      <td>6</td>\n",
       "      <td>8</td>\n",
       "      <td>6</td>\n",
       "      <td>10</td>\n",
       "      <td>6</td>\n",
       "      <td>2</td>\n",
       "      <td>6</td>\n",
       "      <td>10</td>\n",
       "      <td>3</td>\n",
       "      <td>7</td>\n",
       "      <td>3</td>\n",
       "      <td>7</td>\n",
       "      <td>3</td>\n",
       "      <td>9</td>\n",
       "    </tr>\n",
       "    <tr>\n",
       "      <th>3</th>\n",
       "      <td>N</td>\n",
       "      <td>7</td>\n",
       "      <td>11</td>\n",
       "      <td>6</td>\n",
       "      <td>6</td>\n",
       "      <td>3</td>\n",
       "      <td>5</td>\n",
       "      <td>9</td>\n",
       "      <td>4</td>\n",
       "      <td>6</td>\n",
       "      <td>4</td>\n",
       "      <td>4</td>\n",
       "      <td>10</td>\n",
       "      <td>6</td>\n",
       "      <td>10</td>\n",
       "      <td>2</td>\n",
       "      <td>8</td>\n",
       "    </tr>\n",
       "    <tr>\n",
       "      <th>4</th>\n",
       "      <td>G</td>\n",
       "      <td>2</td>\n",
       "      <td>1</td>\n",
       "      <td>3</td>\n",
       "      <td>1</td>\n",
       "      <td>1</td>\n",
       "      <td>8</td>\n",
       "      <td>6</td>\n",
       "      <td>6</td>\n",
       "      <td>6</td>\n",
       "      <td>6</td>\n",
       "      <td>5</td>\n",
       "      <td>9</td>\n",
       "      <td>1</td>\n",
       "      <td>7</td>\n",
       "      <td>5</td>\n",
       "      <td>10</td>\n",
       "    </tr>\n",
       "    <tr>\n",
       "      <th>...</th>\n",
       "      <td>...</td>\n",
       "      <td>...</td>\n",
       "      <td>...</td>\n",
       "      <td>...</td>\n",
       "      <td>...</td>\n",
       "      <td>...</td>\n",
       "      <td>...</td>\n",
       "      <td>...</td>\n",
       "      <td>...</td>\n",
       "      <td>...</td>\n",
       "      <td>...</td>\n",
       "      <td>...</td>\n",
       "      <td>...</td>\n",
       "      <td>...</td>\n",
       "      <td>...</td>\n",
       "      <td>...</td>\n",
       "      <td>...</td>\n",
       "    </tr>\n",
       "    <tr>\n",
       "      <th>19995</th>\n",
       "      <td>D</td>\n",
       "      <td>2</td>\n",
       "      <td>2</td>\n",
       "      <td>3</td>\n",
       "      <td>3</td>\n",
       "      <td>2</td>\n",
       "      <td>7</td>\n",
       "      <td>7</td>\n",
       "      <td>7</td>\n",
       "      <td>6</td>\n",
       "      <td>6</td>\n",
       "      <td>6</td>\n",
       "      <td>4</td>\n",
       "      <td>2</td>\n",
       "      <td>8</td>\n",
       "      <td>3</td>\n",
       "      <td>7</td>\n",
       "    </tr>\n",
       "    <tr>\n",
       "      <th>19996</th>\n",
       "      <td>C</td>\n",
       "      <td>7</td>\n",
       "      <td>10</td>\n",
       "      <td>8</td>\n",
       "      <td>8</td>\n",
       "      <td>4</td>\n",
       "      <td>4</td>\n",
       "      <td>8</td>\n",
       "      <td>6</td>\n",
       "      <td>9</td>\n",
       "      <td>12</td>\n",
       "      <td>9</td>\n",
       "      <td>13</td>\n",
       "      <td>2</td>\n",
       "      <td>9</td>\n",
       "      <td>3</td>\n",
       "      <td>7</td>\n",
       "    </tr>\n",
       "    <tr>\n",
       "      <th>19997</th>\n",
       "      <td>T</td>\n",
       "      <td>6</td>\n",
       "      <td>9</td>\n",
       "      <td>6</td>\n",
       "      <td>7</td>\n",
       "      <td>5</td>\n",
       "      <td>6</td>\n",
       "      <td>11</td>\n",
       "      <td>3</td>\n",
       "      <td>7</td>\n",
       "      <td>11</td>\n",
       "      <td>9</td>\n",
       "      <td>5</td>\n",
       "      <td>2</td>\n",
       "      <td>12</td>\n",
       "      <td>2</td>\n",
       "      <td>4</td>\n",
       "    </tr>\n",
       "    <tr>\n",
       "      <th>19998</th>\n",
       "      <td>S</td>\n",
       "      <td>2</td>\n",
       "      <td>3</td>\n",
       "      <td>4</td>\n",
       "      <td>2</td>\n",
       "      <td>1</td>\n",
       "      <td>8</td>\n",
       "      <td>7</td>\n",
       "      <td>2</td>\n",
       "      <td>6</td>\n",
       "      <td>10</td>\n",
       "      <td>6</td>\n",
       "      <td>8</td>\n",
       "      <td>1</td>\n",
       "      <td>9</td>\n",
       "      <td>5</td>\n",
       "      <td>8</td>\n",
       "    </tr>\n",
       "    <tr>\n",
       "      <th>19999</th>\n",
       "      <td>A</td>\n",
       "      <td>4</td>\n",
       "      <td>9</td>\n",
       "      <td>6</td>\n",
       "      <td>6</td>\n",
       "      <td>2</td>\n",
       "      <td>9</td>\n",
       "      <td>5</td>\n",
       "      <td>3</td>\n",
       "      <td>1</td>\n",
       "      <td>8</td>\n",
       "      <td>1</td>\n",
       "      <td>8</td>\n",
       "      <td>2</td>\n",
       "      <td>7</td>\n",
       "      <td>2</td>\n",
       "      <td>8</td>\n",
       "    </tr>\n",
       "  </tbody>\n",
       "</table>\n",
       "<p>20000 rows × 17 columns</p>\n",
       "</div>"
      ],
      "text/plain": [
       "      letter  xbox  ybox  width  height  onpix  xbar  ybar  x2bar  y2bar  \\\n",
       "0          T     2     8      3       5      1     8    13      0      6   \n",
       "1          I     5    12      3       7      2    10     5      5      4   \n",
       "2          D     4    11      6       8      6    10     6      2      6   \n",
       "3          N     7    11      6       6      3     5     9      4      6   \n",
       "4          G     2     1      3       1      1     8     6      6      6   \n",
       "...      ...   ...   ...    ...     ...    ...   ...   ...    ...    ...   \n",
       "19995      D     2     2      3       3      2     7     7      7      6   \n",
       "19996      C     7    10      8       8      4     4     8      6      9   \n",
       "19997      T     6     9      6       7      5     6    11      3      7   \n",
       "19998      S     2     3      4       2      1     8     7      2      6   \n",
       "19999      A     4     9      6       6      2     9     5      3      1   \n",
       "\n",
       "       xybar  x2ybar  xy2bar  xedge  xedgey  yedge  yedgex  \n",
       "0          6      10       8      0       8      0       8  \n",
       "1         13       3       9      2       8      4      10  \n",
       "2         10       3       7      3       7      3       9  \n",
       "3          4       4      10      6      10      2       8  \n",
       "4          6       5       9      1       7      5      10  \n",
       "...      ...     ...     ...    ...     ...    ...     ...  \n",
       "19995      6       6       4      2       8      3       7  \n",
       "19996     12       9      13      2       9      3       7  \n",
       "19997     11       9       5      2      12      2       4  \n",
       "19998     10       6       8      1       9      5       8  \n",
       "19999      8       1       8      2       7      2       8  \n",
       "\n",
       "[20000 rows x 17 columns]"
      ]
     },
     "execution_count": 2,
     "metadata": {},
     "output_type": "execute_result"
    }
   ],
   "source": [
    "df=pd.read_csv(r'https://raw.githubusercontent.com/Keshavpawar137/Data-Science-Assignment/main/Neural%20networks/Alphabets_data.csv')\n",
    "df"
   ]
  },
  {
   "cell_type": "code",
   "execution_count": 3,
   "id": "f3922747-8f6b-4807-bf0e-5b60eaf91297",
   "metadata": {},
   "outputs": [
    {
     "data": {
      "text/plain": [
       "letter    26\n",
       "xbox      16\n",
       "ybox      16\n",
       "width     16\n",
       "height    16\n",
       "onpix     16\n",
       "xbar      16\n",
       "ybar      16\n",
       "x2bar     16\n",
       "y2bar     16\n",
       "xybar     16\n",
       "x2ybar    16\n",
       "xy2bar    16\n",
       "xedge     16\n",
       "xedgey    16\n",
       "yedge     16\n",
       "yedgex    16\n",
       "dtype: int64"
      ]
     },
     "execution_count": 3,
     "metadata": {},
     "output_type": "execute_result"
    }
   ],
   "source": [
    "classes = df.nunique()\n",
    "classes"
   ]
  },
  {
   "cell_type": "code",
   "execution_count": 4,
   "id": "c88bc7bc-3536-4b18-8a81-33a74f5a37f0",
   "metadata": {},
   "outputs": [
    {
     "name": "stdout",
     "output_type": "stream",
     "text": [
      "samples: 20000\n",
      "Features : 17\n"
     ]
    }
   ],
   "source": [
    "samples, features = df.shape\n",
    "print(f\"samples: {samples}\")\n",
    "print(f\"Features : {features}\")"
   ]
  },
  {
   "cell_type": "code",
   "execution_count": 5,
   "id": "d05094d8-6a52-414a-8b43-274cd34469e7",
   "metadata": {},
   "outputs": [
    {
     "data": {
      "text/html": [
       "<div>\n",
       "<style scoped>\n",
       "    .dataframe tbody tr th:only-of-type {\n",
       "        vertical-align: middle;\n",
       "    }\n",
       "\n",
       "    .dataframe tbody tr th {\n",
       "        vertical-align: top;\n",
       "    }\n",
       "\n",
       "    .dataframe thead th {\n",
       "        text-align: right;\n",
       "    }\n",
       "</style>\n",
       "<table border=\"1\" class=\"dataframe\">\n",
       "  <thead>\n",
       "    <tr style=\"text-align: right;\">\n",
       "      <th></th>\n",
       "      <th>letter</th>\n",
       "      <th>xbox</th>\n",
       "      <th>ybox</th>\n",
       "      <th>width</th>\n",
       "      <th>height</th>\n",
       "      <th>onpix</th>\n",
       "      <th>xbar</th>\n",
       "      <th>ybar</th>\n",
       "      <th>x2bar</th>\n",
       "      <th>y2bar</th>\n",
       "      <th>xybar</th>\n",
       "      <th>x2ybar</th>\n",
       "      <th>xy2bar</th>\n",
       "      <th>xedge</th>\n",
       "      <th>xedgey</th>\n",
       "      <th>yedge</th>\n",
       "      <th>yedgex</th>\n",
       "    </tr>\n",
       "  </thead>\n",
       "  <tbody>\n",
       "    <tr>\n",
       "      <th>0</th>\n",
       "      <td>T</td>\n",
       "      <td>2</td>\n",
       "      <td>8</td>\n",
       "      <td>3</td>\n",
       "      <td>5</td>\n",
       "      <td>1</td>\n",
       "      <td>8</td>\n",
       "      <td>13</td>\n",
       "      <td>0</td>\n",
       "      <td>6</td>\n",
       "      <td>6</td>\n",
       "      <td>10</td>\n",
       "      <td>8</td>\n",
       "      <td>0</td>\n",
       "      <td>8</td>\n",
       "      <td>0</td>\n",
       "      <td>8</td>\n",
       "    </tr>\n",
       "    <tr>\n",
       "      <th>1</th>\n",
       "      <td>I</td>\n",
       "      <td>5</td>\n",
       "      <td>12</td>\n",
       "      <td>3</td>\n",
       "      <td>7</td>\n",
       "      <td>2</td>\n",
       "      <td>10</td>\n",
       "      <td>5</td>\n",
       "      <td>5</td>\n",
       "      <td>4</td>\n",
       "      <td>13</td>\n",
       "      <td>3</td>\n",
       "      <td>9</td>\n",
       "      <td>2</td>\n",
       "      <td>8</td>\n",
       "      <td>4</td>\n",
       "      <td>10</td>\n",
       "    </tr>\n",
       "    <tr>\n",
       "      <th>2</th>\n",
       "      <td>D</td>\n",
       "      <td>4</td>\n",
       "      <td>11</td>\n",
       "      <td>6</td>\n",
       "      <td>8</td>\n",
       "      <td>6</td>\n",
       "      <td>10</td>\n",
       "      <td>6</td>\n",
       "      <td>2</td>\n",
       "      <td>6</td>\n",
       "      <td>10</td>\n",
       "      <td>3</td>\n",
       "      <td>7</td>\n",
       "      <td>3</td>\n",
       "      <td>7</td>\n",
       "      <td>3</td>\n",
       "      <td>9</td>\n",
       "    </tr>\n",
       "    <tr>\n",
       "      <th>3</th>\n",
       "      <td>N</td>\n",
       "      <td>7</td>\n",
       "      <td>11</td>\n",
       "      <td>6</td>\n",
       "      <td>6</td>\n",
       "      <td>3</td>\n",
       "      <td>5</td>\n",
       "      <td>9</td>\n",
       "      <td>4</td>\n",
       "      <td>6</td>\n",
       "      <td>4</td>\n",
       "      <td>4</td>\n",
       "      <td>10</td>\n",
       "      <td>6</td>\n",
       "      <td>10</td>\n",
       "      <td>2</td>\n",
       "      <td>8</td>\n",
       "    </tr>\n",
       "    <tr>\n",
       "      <th>4</th>\n",
       "      <td>G</td>\n",
       "      <td>2</td>\n",
       "      <td>1</td>\n",
       "      <td>3</td>\n",
       "      <td>1</td>\n",
       "      <td>1</td>\n",
       "      <td>8</td>\n",
       "      <td>6</td>\n",
       "      <td>6</td>\n",
       "      <td>6</td>\n",
       "      <td>6</td>\n",
       "      <td>5</td>\n",
       "      <td>9</td>\n",
       "      <td>1</td>\n",
       "      <td>7</td>\n",
       "      <td>5</td>\n",
       "      <td>10</td>\n",
       "    </tr>\n",
       "  </tbody>\n",
       "</table>\n",
       "</div>"
      ],
      "text/plain": [
       "  letter  xbox  ybox  width  height  onpix  xbar  ybar  x2bar  y2bar  xybar  \\\n",
       "0      T     2     8      3       5      1     8    13      0      6      6   \n",
       "1      I     5    12      3       7      2    10     5      5      4     13   \n",
       "2      D     4    11      6       8      6    10     6      2      6     10   \n",
       "3      N     7    11      6       6      3     5     9      4      6      4   \n",
       "4      G     2     1      3       1      1     8     6      6      6      6   \n",
       "\n",
       "   x2ybar  xy2bar  xedge  xedgey  yedge  yedgex  \n",
       "0      10       8      0       8      0       8  \n",
       "1       3       9      2       8      4      10  \n",
       "2       3       7      3       7      3       9  \n",
       "3       4      10      6      10      2       8  \n",
       "4       5       9      1       7      5      10  "
      ]
     },
     "execution_count": 5,
     "metadata": {},
     "output_type": "execute_result"
    }
   ],
   "source": [
    "df.head()"
   ]
  },
  {
   "cell_type": "code",
   "execution_count": 6,
   "id": "52300e9a-a0fb-4cf1-8c4f-ca21737d03db",
   "metadata": {},
   "outputs": [
    {
     "data": {
      "text/html": [
       "<div>\n",
       "<style scoped>\n",
       "    .dataframe tbody tr th:only-of-type {\n",
       "        vertical-align: middle;\n",
       "    }\n",
       "\n",
       "    .dataframe tbody tr th {\n",
       "        vertical-align: top;\n",
       "    }\n",
       "\n",
       "    .dataframe thead th {\n",
       "        text-align: right;\n",
       "    }\n",
       "</style>\n",
       "<table border=\"1\" class=\"dataframe\">\n",
       "  <thead>\n",
       "    <tr style=\"text-align: right;\">\n",
       "      <th></th>\n",
       "      <th>xbox</th>\n",
       "      <th>ybox</th>\n",
       "      <th>width</th>\n",
       "      <th>height</th>\n",
       "      <th>onpix</th>\n",
       "      <th>xbar</th>\n",
       "      <th>ybar</th>\n",
       "      <th>x2bar</th>\n",
       "      <th>y2bar</th>\n",
       "      <th>xybar</th>\n",
       "      <th>x2ybar</th>\n",
       "      <th>xy2bar</th>\n",
       "      <th>xedge</th>\n",
       "      <th>xedgey</th>\n",
       "      <th>yedge</th>\n",
       "      <th>yedgex</th>\n",
       "    </tr>\n",
       "  </thead>\n",
       "  <tbody>\n",
       "    <tr>\n",
       "      <th>count</th>\n",
       "      <td>20000.000000</td>\n",
       "      <td>20000.000000</td>\n",
       "      <td>20000.000000</td>\n",
       "      <td>20000.00000</td>\n",
       "      <td>20000.000000</td>\n",
       "      <td>20000.000000</td>\n",
       "      <td>20000.000000</td>\n",
       "      <td>20000.000000</td>\n",
       "      <td>20000.000000</td>\n",
       "      <td>20000.000000</td>\n",
       "      <td>20000.00000</td>\n",
       "      <td>20000.000000</td>\n",
       "      <td>20000.000000</td>\n",
       "      <td>20000.000000</td>\n",
       "      <td>20000.000000</td>\n",
       "      <td>20000.00000</td>\n",
       "    </tr>\n",
       "    <tr>\n",
       "      <th>mean</th>\n",
       "      <td>4.023550</td>\n",
       "      <td>7.035500</td>\n",
       "      <td>5.121850</td>\n",
       "      <td>5.37245</td>\n",
       "      <td>3.505850</td>\n",
       "      <td>6.897600</td>\n",
       "      <td>7.500450</td>\n",
       "      <td>4.628600</td>\n",
       "      <td>5.178650</td>\n",
       "      <td>8.282050</td>\n",
       "      <td>6.45400</td>\n",
       "      <td>7.929000</td>\n",
       "      <td>3.046100</td>\n",
       "      <td>8.338850</td>\n",
       "      <td>3.691750</td>\n",
       "      <td>7.80120</td>\n",
       "    </tr>\n",
       "    <tr>\n",
       "      <th>std</th>\n",
       "      <td>1.913212</td>\n",
       "      <td>3.304555</td>\n",
       "      <td>2.014573</td>\n",
       "      <td>2.26139</td>\n",
       "      <td>2.190458</td>\n",
       "      <td>2.026035</td>\n",
       "      <td>2.325354</td>\n",
       "      <td>2.699968</td>\n",
       "      <td>2.380823</td>\n",
       "      <td>2.488475</td>\n",
       "      <td>2.63107</td>\n",
       "      <td>2.080619</td>\n",
       "      <td>2.332541</td>\n",
       "      <td>1.546722</td>\n",
       "      <td>2.567073</td>\n",
       "      <td>1.61747</td>\n",
       "    </tr>\n",
       "    <tr>\n",
       "      <th>min</th>\n",
       "      <td>0.000000</td>\n",
       "      <td>0.000000</td>\n",
       "      <td>0.000000</td>\n",
       "      <td>0.00000</td>\n",
       "      <td>0.000000</td>\n",
       "      <td>0.000000</td>\n",
       "      <td>0.000000</td>\n",
       "      <td>0.000000</td>\n",
       "      <td>0.000000</td>\n",
       "      <td>0.000000</td>\n",
       "      <td>0.00000</td>\n",
       "      <td>0.000000</td>\n",
       "      <td>0.000000</td>\n",
       "      <td>0.000000</td>\n",
       "      <td>0.000000</td>\n",
       "      <td>0.00000</td>\n",
       "    </tr>\n",
       "    <tr>\n",
       "      <th>25%</th>\n",
       "      <td>3.000000</td>\n",
       "      <td>5.000000</td>\n",
       "      <td>4.000000</td>\n",
       "      <td>4.00000</td>\n",
       "      <td>2.000000</td>\n",
       "      <td>6.000000</td>\n",
       "      <td>6.000000</td>\n",
       "      <td>3.000000</td>\n",
       "      <td>4.000000</td>\n",
       "      <td>7.000000</td>\n",
       "      <td>5.00000</td>\n",
       "      <td>7.000000</td>\n",
       "      <td>1.000000</td>\n",
       "      <td>8.000000</td>\n",
       "      <td>2.000000</td>\n",
       "      <td>7.00000</td>\n",
       "    </tr>\n",
       "    <tr>\n",
       "      <th>50%</th>\n",
       "      <td>4.000000</td>\n",
       "      <td>7.000000</td>\n",
       "      <td>5.000000</td>\n",
       "      <td>6.00000</td>\n",
       "      <td>3.000000</td>\n",
       "      <td>7.000000</td>\n",
       "      <td>7.000000</td>\n",
       "      <td>4.000000</td>\n",
       "      <td>5.000000</td>\n",
       "      <td>8.000000</td>\n",
       "      <td>6.00000</td>\n",
       "      <td>8.000000</td>\n",
       "      <td>3.000000</td>\n",
       "      <td>8.000000</td>\n",
       "      <td>3.000000</td>\n",
       "      <td>8.00000</td>\n",
       "    </tr>\n",
       "    <tr>\n",
       "      <th>75%</th>\n",
       "      <td>5.000000</td>\n",
       "      <td>9.000000</td>\n",
       "      <td>6.000000</td>\n",
       "      <td>7.00000</td>\n",
       "      <td>5.000000</td>\n",
       "      <td>8.000000</td>\n",
       "      <td>9.000000</td>\n",
       "      <td>6.000000</td>\n",
       "      <td>7.000000</td>\n",
       "      <td>10.000000</td>\n",
       "      <td>8.00000</td>\n",
       "      <td>9.000000</td>\n",
       "      <td>4.000000</td>\n",
       "      <td>9.000000</td>\n",
       "      <td>5.000000</td>\n",
       "      <td>9.00000</td>\n",
       "    </tr>\n",
       "    <tr>\n",
       "      <th>max</th>\n",
       "      <td>15.000000</td>\n",
       "      <td>15.000000</td>\n",
       "      <td>15.000000</td>\n",
       "      <td>15.00000</td>\n",
       "      <td>15.000000</td>\n",
       "      <td>15.000000</td>\n",
       "      <td>15.000000</td>\n",
       "      <td>15.000000</td>\n",
       "      <td>15.000000</td>\n",
       "      <td>15.000000</td>\n",
       "      <td>15.00000</td>\n",
       "      <td>15.000000</td>\n",
       "      <td>15.000000</td>\n",
       "      <td>15.000000</td>\n",
       "      <td>15.000000</td>\n",
       "      <td>15.00000</td>\n",
       "    </tr>\n",
       "  </tbody>\n",
       "</table>\n",
       "</div>"
      ],
      "text/plain": [
       "               xbox          ybox         width       height         onpix  \\\n",
       "count  20000.000000  20000.000000  20000.000000  20000.00000  20000.000000   \n",
       "mean       4.023550      7.035500      5.121850      5.37245      3.505850   \n",
       "std        1.913212      3.304555      2.014573      2.26139      2.190458   \n",
       "min        0.000000      0.000000      0.000000      0.00000      0.000000   \n",
       "25%        3.000000      5.000000      4.000000      4.00000      2.000000   \n",
       "50%        4.000000      7.000000      5.000000      6.00000      3.000000   \n",
       "75%        5.000000      9.000000      6.000000      7.00000      5.000000   \n",
       "max       15.000000     15.000000     15.000000     15.00000     15.000000   \n",
       "\n",
       "               xbar          ybar         x2bar         y2bar         xybar  \\\n",
       "count  20000.000000  20000.000000  20000.000000  20000.000000  20000.000000   \n",
       "mean       6.897600      7.500450      4.628600      5.178650      8.282050   \n",
       "std        2.026035      2.325354      2.699968      2.380823      2.488475   \n",
       "min        0.000000      0.000000      0.000000      0.000000      0.000000   \n",
       "25%        6.000000      6.000000      3.000000      4.000000      7.000000   \n",
       "50%        7.000000      7.000000      4.000000      5.000000      8.000000   \n",
       "75%        8.000000      9.000000      6.000000      7.000000     10.000000   \n",
       "max       15.000000     15.000000     15.000000     15.000000     15.000000   \n",
       "\n",
       "            x2ybar        xy2bar         xedge        xedgey         yedge  \\\n",
       "count  20000.00000  20000.000000  20000.000000  20000.000000  20000.000000   \n",
       "mean       6.45400      7.929000      3.046100      8.338850      3.691750   \n",
       "std        2.63107      2.080619      2.332541      1.546722      2.567073   \n",
       "min        0.00000      0.000000      0.000000      0.000000      0.000000   \n",
       "25%        5.00000      7.000000      1.000000      8.000000      2.000000   \n",
       "50%        6.00000      8.000000      3.000000      8.000000      3.000000   \n",
       "75%        8.00000      9.000000      4.000000      9.000000      5.000000   \n",
       "max       15.00000     15.000000     15.000000     15.000000     15.000000   \n",
       "\n",
       "            yedgex  \n",
       "count  20000.00000  \n",
       "mean       7.80120  \n",
       "std        1.61747  \n",
       "min        0.00000  \n",
       "25%        7.00000  \n",
       "50%        8.00000  \n",
       "75%        9.00000  \n",
       "max       15.00000  "
      ]
     },
     "execution_count": 6,
     "metadata": {},
     "output_type": "execute_result"
    }
   ],
   "source": [
    "df.describe()"
   ]
  },
  {
   "cell_type": "code",
   "execution_count": 7,
   "id": "3a0bca28-9a13-4c52-aec4-aad95f1d861c",
   "metadata": {},
   "outputs": [
    {
     "data": {
      "text/plain": [
       "letter    0\n",
       "xbox      0\n",
       "ybox      0\n",
       "width     0\n",
       "height    0\n",
       "onpix     0\n",
       "xbar      0\n",
       "ybar      0\n",
       "x2bar     0\n",
       "y2bar     0\n",
       "xybar     0\n",
       "x2ybar    0\n",
       "xy2bar    0\n",
       "xedge     0\n",
       "xedgey    0\n",
       "yedge     0\n",
       "yedgex    0\n",
       "dtype: int64"
      ]
     },
     "execution_count": 7,
     "metadata": {},
     "output_type": "execute_result"
    }
   ],
   "source": [
    "missing_values =df.isnull().sum()\n",
    "missing_values"
   ]
  },
  {
   "cell_type": "code",
   "execution_count": 8,
   "id": "5bd8021e-2bf9-4e6f-b810-3d391ff3e3f8",
   "metadata": {},
   "outputs": [
    {
     "name": "stdout",
     "output_type": "stream",
     "text": [
      "<class 'pandas.core.frame.DataFrame'>\n",
      "RangeIndex: 20000 entries, 0 to 19999\n",
      "Data columns (total 17 columns):\n",
      " #   Column  Non-Null Count  Dtype \n",
      "---  ------  --------------  ----- \n",
      " 0   letter  20000 non-null  object\n",
      " 1   xbox    20000 non-null  int64 \n",
      " 2   ybox    20000 non-null  int64 \n",
      " 3   width   20000 non-null  int64 \n",
      " 4   height  20000 non-null  int64 \n",
      " 5   onpix   20000 non-null  int64 \n",
      " 6   xbar    20000 non-null  int64 \n",
      " 7   ybar    20000 non-null  int64 \n",
      " 8   x2bar   20000 non-null  int64 \n",
      " 9   y2bar   20000 non-null  int64 \n",
      " 10  xybar   20000 non-null  int64 \n",
      " 11  x2ybar  20000 non-null  int64 \n",
      " 12  xy2bar  20000 non-null  int64 \n",
      " 13  xedge   20000 non-null  int64 \n",
      " 14  xedgey  20000 non-null  int64 \n",
      " 15  yedge   20000 non-null  int64 \n",
      " 16  yedgex  20000 non-null  int64 \n",
      "dtypes: int64(16), object(1)\n",
      "memory usage: 2.6+ MB\n"
     ]
    }
   ],
   "source": [
    "df.info()"
   ]
  },
  {
   "cell_type": "code",
   "execution_count": 9,
   "id": "24eb7081-e705-4ae8-b550-037e86dc7b1a",
   "metadata": {},
   "outputs": [],
   "source": [
    "from sklearn.preprocessing import StandardScaler\n",
    "from sklearn.model_selection import train_test_split\n"
   ]
  },
  {
   "cell_type": "code",
   "execution_count": null,
   "id": "85019a00-20a9-4eff-b957-9c8a7bcec599",
   "metadata": {},
   "outputs": [],
   "source": []
  },
  {
   "cell_type": "code",
   "execution_count": 10,
   "id": "7efe1839-6ce2-4a2b-a631-39893abcfe56",
   "metadata": {},
   "outputs": [
    {
     "data": {
      "text/plain": [
       "letter    0\n",
       "xbox      0\n",
       "ybox      0\n",
       "width     0\n",
       "height    0\n",
       "onpix     0\n",
       "xbar      0\n",
       "ybar      0\n",
       "x2bar     0\n",
       "y2bar     0\n",
       "xybar     0\n",
       "x2ybar    0\n",
       "xy2bar    0\n",
       "xedge     0\n",
       "xedgey    0\n",
       "yedge     0\n",
       "yedgex    0\n",
       "dtype: int64"
      ]
     },
     "execution_count": 10,
     "metadata": {},
     "output_type": "execute_result"
    }
   ],
   "source": [
    "df.isna().sum()"
   ]
  },
  {
   "cell_type": "code",
   "execution_count": 11,
   "id": "4790961f-89c9-4a75-a4ae-97d35c92c0cd",
   "metadata": {},
   "outputs": [
    {
     "data": {
      "text/plain": [
       "letter\n",
       "U    813\n",
       "D    805\n",
       "P    803\n",
       "T    796\n",
       "M    792\n",
       "A    789\n",
       "X    787\n",
       "Y    786\n",
       "N    783\n",
       "Q    783\n",
       "F    775\n",
       "G    773\n",
       "E    768\n",
       "B    766\n",
       "V    764\n",
       "L    761\n",
       "R    758\n",
       "I    755\n",
       "O    753\n",
       "W    752\n",
       "S    748\n",
       "J    747\n",
       "K    739\n",
       "C    736\n",
       "H    734\n",
       "Z    734\n",
       "Name: count, dtype: int64"
      ]
     },
     "execution_count": 11,
     "metadata": {},
     "output_type": "execute_result"
    }
   ],
   "source": [
    "df['letter'].value_counts()"
   ]
  },
  {
   "cell_type": "code",
   "execution_count": 12,
   "id": "f0a3ede7-f7bb-4ca1-9bf2-1b7e2845efca",
   "metadata": {},
   "outputs": [],
   "source": [
    "from sklearn.preprocessing import LabelEncoder"
   ]
  },
  {
   "cell_type": "code",
   "execution_count": 13,
   "id": "eec1122d-fad1-4026-b6c0-f2a58fc398fd",
   "metadata": {},
   "outputs": [],
   "source": [
    "x = df.drop('letter', axis=1).values\n",
    "y = df['letter'].values\n"
   ]
  },
  {
   "cell_type": "code",
   "execution_count": 14,
   "id": "14afe01e-720e-41bf-9ec3-78a7a0fa1297",
   "metadata": {},
   "outputs": [],
   "source": [
    "label_encoder = LabelEncoder()\n",
    "y = label_encoder.fit_transform(y)\n"
   ]
  },
  {
   "cell_type": "code",
   "execution_count": 15,
   "id": "4874ecfb-b33d-4f94-8159-d47560e93f5e",
   "metadata": {},
   "outputs": [],
   "source": [
    "scaler = StandardScaler()\n",
    "x_scaled = scaler.fit_transform(x)\n"
   ]
  },
  {
   "cell_type": "code",
   "execution_count": 16,
   "id": "edaa4c4d-2858-4773-a894-f57cc8112d83",
   "metadata": {},
   "outputs": [],
   "source": [
    "x_train, x_test, y_train, y_test = train_test_split(x_scaled, y, test_size=0.2, random_state=42)"
   ]
  },
  {
   "cell_type": "code",
   "execution_count": null,
   "id": "3b918b04-b320-4a82-acf9-5800967b5f6a",
   "metadata": {},
   "outputs": [],
   "source": []
  },
  {
   "cell_type": "markdown",
   "id": "aaa77dc7-1fe0-4a42-9957-20aac9e86c13",
   "metadata": {},
   "source": [
    "**ANN Model**"
   ]
  },
  {
   "cell_type": "code",
   "execution_count": 17,
   "id": "d3e4c626-8492-4428-ad50-fc159df9474b",
   "metadata": {},
   "outputs": [],
   "source": [
    "import tensorflow as tf\n",
    "from tensorflow.keras.models import Sequential\n",
    "from tensorflow.keras.layers import Dense"
   ]
  },
  {
   "cell_type": "code",
   "execution_count": 18,
   "id": "c8bb49e8-70c3-4f3b-bea8-f45348255839",
   "metadata": {},
   "outputs": [],
   "source": [
    "model = Sequential()\n",
    "model.add(Dense(64, input_dim=x_train.shape[1], activation='relu'))  # Input layer and first hidden layer\n",
    "model.add(Dense(32, activation='relu'))  # Second hidden layer\n",
    "model.add(Dense(26, activation='softmax'))  # Output layer (assuming 26 classes for each alphabet)\n"
   ]
  },
  {
   "cell_type": "code",
   "execution_count": 19,
   "id": "b9f0e646-1946-4705-b525-431880c02b39",
   "metadata": {},
   "outputs": [],
   "source": [
    "model.compile(optimizer='adam', loss='sparse_categorical_crossentropy', metrics=['accuracy'])"
   ]
  },
  {
   "cell_type": "code",
   "execution_count": 20,
   "id": "836e6b4f-2082-4063-980d-871481c520be",
   "metadata": {},
   "outputs": [],
   "source": [
    "#Train model"
   ]
  },
  {
   "cell_type": "code",
   "execution_count": 21,
   "id": "01d36f44-3694-4fcc-ae15-e7d86f555b0a",
   "metadata": {},
   "outputs": [],
   "source": [
    "# pip install tensorflow==2.11 keras==2.11\n"
   ]
  },
  {
   "cell_type": "code",
   "execution_count": 22,
   "id": "d74543e8-66ba-4512-b7a1-74ecfe915270",
   "metadata": {},
   "outputs": [
    {
     "name": "stdout",
     "output_type": "stream",
     "text": [
      "(16000, 16) float64\n",
      "(16000,) int32\n",
      "(4000, 16) float64\n",
      "(4000,) int32\n"
     ]
    }
   ],
   "source": [
    "print(x_train.shape, x_train.dtype)\n",
    "print(y_train.shape, y_train.dtype)\n",
    "print(x_test.shape, x_test.dtype)\n",
    "print(y_test.shape, y_test.dtype)"
   ]
  },
  {
   "cell_type": "code",
   "execution_count": 23,
   "id": "8cc05e22-cef0-492e-afa2-d395a63bf400",
   "metadata": {},
   "outputs": [],
   "source": [
    "import numpy as np"
   ]
  },
  {
   "cell_type": "code",
   "execution_count": 24,
   "id": "b0fa1d5f-dd7c-4799-85c8-c73228793029",
   "metadata": {},
   "outputs": [],
   "source": [
    "x_train = np.array(x_train, dtype=np.float32)\n",
    "y_train = np.array(y_train, dtype=np.int32)\n",
    "x_test = np.array(x_test, dtype=np.float32)\n",
    "y_test = np.array(y_test, dtype=np.int32)"
   ]
  },
  {
   "cell_type": "code",
   "execution_count": 25,
   "id": "c2a50528-f13d-4d94-87d5-f9a53afab9cf",
   "metadata": {},
   "outputs": [
    {
     "name": "stdout",
     "output_type": "stream",
     "text": [
      "Epoch 1/50\n",
      "400/400 [==============================] - 2s 3ms/step - loss: 1.9868 - accuracy: 0.4623 - val_loss: 1.1704 - val_accuracy: 0.6722\n",
      "Epoch 2/50\n",
      "400/400 [==============================] - 1s 2ms/step - loss: 0.9475 - accuracy: 0.7323 - val_loss: 0.8545 - val_accuracy: 0.7509\n",
      "Epoch 3/50\n",
      "400/400 [==============================] - 1s 2ms/step - loss: 0.7409 - accuracy: 0.7852 - val_loss: 0.7122 - val_accuracy: 0.7891\n",
      "Epoch 4/50\n",
      "400/400 [==============================] - 1s 2ms/step - loss: 0.6274 - accuracy: 0.8177 - val_loss: 0.6235 - val_accuracy: 0.8103\n",
      "Epoch 5/50\n",
      "400/400 [==============================] - 1s 2ms/step - loss: 0.5479 - accuracy: 0.8371 - val_loss: 0.5648 - val_accuracy: 0.8313\n",
      "Epoch 6/50\n",
      "400/400 [==============================] - 1s 2ms/step - loss: 0.4902 - accuracy: 0.8518 - val_loss: 0.5106 - val_accuracy: 0.8478\n",
      "Epoch 7/50\n",
      "400/400 [==============================] - 1s 2ms/step - loss: 0.4438 - accuracy: 0.8655 - val_loss: 0.4693 - val_accuracy: 0.8581\n",
      "Epoch 8/50\n",
      "400/400 [==============================] - 1s 2ms/step - loss: 0.4075 - accuracy: 0.8775 - val_loss: 0.4386 - val_accuracy: 0.8650\n",
      "Epoch 9/50\n",
      "400/400 [==============================] - 1s 2ms/step - loss: 0.3754 - accuracy: 0.8890 - val_loss: 0.4088 - val_accuracy: 0.8750\n",
      "Epoch 10/50\n",
      "400/400 [==============================] - 1s 2ms/step - loss: 0.3519 - accuracy: 0.8929 - val_loss: 0.3877 - val_accuracy: 0.8809\n",
      "Epoch 11/50\n",
      "400/400 [==============================] - 1s 2ms/step - loss: 0.3272 - accuracy: 0.9002 - val_loss: 0.3650 - val_accuracy: 0.8888\n",
      "Epoch 12/50\n",
      "400/400 [==============================] - 1s 2ms/step - loss: 0.3082 - accuracy: 0.9072 - val_loss: 0.3591 - val_accuracy: 0.8866\n",
      "Epoch 13/50\n",
      "400/400 [==============================] - 1s 2ms/step - loss: 0.2909 - accuracy: 0.9104 - val_loss: 0.3363 - val_accuracy: 0.8978\n",
      "Epoch 14/50\n",
      "400/400 [==============================] - 1s 2ms/step - loss: 0.2742 - accuracy: 0.9183 - val_loss: 0.3311 - val_accuracy: 0.8988\n",
      "Epoch 15/50\n",
      "400/400 [==============================] - 1s 2ms/step - loss: 0.2616 - accuracy: 0.9216 - val_loss: 0.3126 - val_accuracy: 0.9009\n",
      "Epoch 16/50\n",
      "400/400 [==============================] - 1s 2ms/step - loss: 0.2493 - accuracy: 0.9236 - val_loss: 0.3077 - val_accuracy: 0.9050\n",
      "Epoch 17/50\n",
      "400/400 [==============================] - 1s 2ms/step - loss: 0.2381 - accuracy: 0.9265 - val_loss: 0.3027 - val_accuracy: 0.9056\n",
      "Epoch 18/50\n",
      "400/400 [==============================] - 1s 2ms/step - loss: 0.2270 - accuracy: 0.9297 - val_loss: 0.2956 - val_accuracy: 0.9087\n",
      "Epoch 19/50\n",
      "400/400 [==============================] - 1s 2ms/step - loss: 0.2182 - accuracy: 0.9343 - val_loss: 0.2862 - val_accuracy: 0.9147\n",
      "Epoch 20/50\n",
      "400/400 [==============================] - 1s 2ms/step - loss: 0.2084 - accuracy: 0.9358 - val_loss: 0.2832 - val_accuracy: 0.9094\n",
      "Epoch 21/50\n",
      "400/400 [==============================] - 1s 2ms/step - loss: 0.2019 - accuracy: 0.9384 - val_loss: 0.2710 - val_accuracy: 0.9128\n",
      "Epoch 22/50\n",
      "400/400 [==============================] - 1s 2ms/step - loss: 0.1932 - accuracy: 0.9413 - val_loss: 0.2670 - val_accuracy: 0.9178\n",
      "Epoch 23/50\n",
      "400/400 [==============================] - 1s 2ms/step - loss: 0.1881 - accuracy: 0.9434 - val_loss: 0.2600 - val_accuracy: 0.9156\n",
      "Epoch 24/50\n",
      "400/400 [==============================] - 1s 2ms/step - loss: 0.1808 - accuracy: 0.9445 - val_loss: 0.2658 - val_accuracy: 0.9125\n",
      "Epoch 25/50\n",
      "400/400 [==============================] - 1s 2ms/step - loss: 0.1734 - accuracy: 0.9472 - val_loss: 0.2584 - val_accuracy: 0.9209\n",
      "Epoch 26/50\n",
      "400/400 [==============================] - 1s 2ms/step - loss: 0.1679 - accuracy: 0.9487 - val_loss: 0.2485 - val_accuracy: 0.9222\n",
      "Epoch 27/50\n",
      "400/400 [==============================] - 1s 3ms/step - loss: 0.1608 - accuracy: 0.9530 - val_loss: 0.2498 - val_accuracy: 0.9203\n",
      "Epoch 28/50\n",
      "400/400 [==============================] - 1s 2ms/step - loss: 0.1573 - accuracy: 0.9523 - val_loss: 0.2507 - val_accuracy: 0.9219\n",
      "Epoch 29/50\n",
      "400/400 [==============================] - 1s 2ms/step - loss: 0.1523 - accuracy: 0.9521 - val_loss: 0.2399 - val_accuracy: 0.9284\n",
      "Epoch 30/50\n",
      "400/400 [==============================] - 1s 2ms/step - loss: 0.1480 - accuracy: 0.9552 - val_loss: 0.2331 - val_accuracy: 0.9287\n",
      "Epoch 31/50\n",
      "400/400 [==============================] - 1s 2ms/step - loss: 0.1431 - accuracy: 0.9555 - val_loss: 0.2357 - val_accuracy: 0.9294\n",
      "Epoch 32/50\n",
      "400/400 [==============================] - 1s 2ms/step - loss: 0.1402 - accuracy: 0.9559 - val_loss: 0.2317 - val_accuracy: 0.9269\n",
      "Epoch 33/50\n",
      "400/400 [==============================] - 1s 2ms/step - loss: 0.1344 - accuracy: 0.9595 - val_loss: 0.2393 - val_accuracy: 0.9262\n",
      "Epoch 34/50\n",
      "400/400 [==============================] - 1s 2ms/step - loss: 0.1323 - accuracy: 0.9603 - val_loss: 0.2296 - val_accuracy: 0.9266\n",
      "Epoch 35/50\n",
      "400/400 [==============================] - 1s 2ms/step - loss: 0.1272 - accuracy: 0.9604 - val_loss: 0.2429 - val_accuracy: 0.9253\n",
      "Epoch 36/50\n",
      "400/400 [==============================] - 1s 2ms/step - loss: 0.1256 - accuracy: 0.9603 - val_loss: 0.2246 - val_accuracy: 0.9309\n",
      "Epoch 37/50\n",
      "400/400 [==============================] - 1s 2ms/step - loss: 0.1200 - accuracy: 0.9630 - val_loss: 0.2231 - val_accuracy: 0.9309\n",
      "Epoch 38/50\n",
      "400/400 [==============================] - 1s 2ms/step - loss: 0.1198 - accuracy: 0.9627 - val_loss: 0.2238 - val_accuracy: 0.9278\n",
      "Epoch 39/50\n",
      "400/400 [==============================] - 1s 2ms/step - loss: 0.1150 - accuracy: 0.9645 - val_loss: 0.2257 - val_accuracy: 0.9300\n",
      "Epoch 40/50\n",
      "400/400 [==============================] - 1s 2ms/step - loss: 0.1125 - accuracy: 0.9660 - val_loss: 0.2235 - val_accuracy: 0.9319\n",
      "Epoch 41/50\n",
      "400/400 [==============================] - 1s 2ms/step - loss: 0.1102 - accuracy: 0.9655 - val_loss: 0.2280 - val_accuracy: 0.9297\n",
      "Epoch 42/50\n",
      "400/400 [==============================] - 1s 2ms/step - loss: 0.1071 - accuracy: 0.9677 - val_loss: 0.2137 - val_accuracy: 0.9322\n",
      "Epoch 43/50\n",
      "400/400 [==============================] - 1s 2ms/step - loss: 0.1053 - accuracy: 0.9670 - val_loss: 0.2188 - val_accuracy: 0.9328\n",
      "Epoch 44/50\n",
      "400/400 [==============================] - 1s 2ms/step - loss: 0.1020 - accuracy: 0.9684 - val_loss: 0.2115 - val_accuracy: 0.9350\n",
      "Epoch 45/50\n",
      "400/400 [==============================] - 1s 2ms/step - loss: 0.0985 - accuracy: 0.9691 - val_loss: 0.2141 - val_accuracy: 0.9334\n",
      "Epoch 46/50\n",
      "400/400 [==============================] - 1s 2ms/step - loss: 0.0986 - accuracy: 0.9689 - val_loss: 0.2334 - val_accuracy: 0.9278\n",
      "Epoch 47/50\n",
      "400/400 [==============================] - 1s 2ms/step - loss: 0.0953 - accuracy: 0.9705 - val_loss: 0.2110 - val_accuracy: 0.9362\n",
      "Epoch 48/50\n",
      "400/400 [==============================] - 2s 4ms/step - loss: 0.0931 - accuracy: 0.9697 - val_loss: 0.2226 - val_accuracy: 0.9306\n",
      "Epoch 49/50\n",
      "400/400 [==============================] - 1s 3ms/step - loss: 0.0896 - accuracy: 0.9720 - val_loss: 0.2125 - val_accuracy: 0.9347\n",
      "Epoch 50/50\n",
      "400/400 [==============================] - 1s 2ms/step - loss: 0.0895 - accuracy: 0.9709 - val_loss: 0.2187 - val_accuracy: 0.9300\n"
     ]
    },
    {
     "data": {
      "text/plain": [
       "<keras.callbacks.History at 0x1fd262b3f10>"
      ]
     },
     "execution_count": 25,
     "metadata": {},
     "output_type": "execute_result"
    }
   ],
   "source": [
    "model.fit(x_train, y_train, epochs=50, batch_size=32, validation_split=0.2)"
   ]
  },
  {
   "cell_type": "code",
   "execution_count": 26,
   "id": "f6a1e671-5760-4ba0-9de0-63d3a11d003d",
   "metadata": {},
   "outputs": [],
   "source": [
    "#Prediction"
   ]
  },
  {
   "cell_type": "code",
   "execution_count": 27,
   "id": "4f0a0dfe-6c5e-404a-9af1-1a33c1f46bb2",
   "metadata": {},
   "outputs": [
    {
     "name": "stdout",
     "output_type": "stream",
     "text": [
      "125/125 [==============================] - 0s 2ms/step - loss: 0.1904 - accuracy: 0.9410\n",
      "Test Accuracy: 0.9409999847412109\n"
     ]
    }
   ],
   "source": [
    "test_loss, test_acc = model.evaluate(x_test, y_test)\n",
    "print(f\"Test Accuracy: {test_acc}\")\n"
   ]
  },
  {
   "cell_type": "code",
   "execution_count": 28,
   "id": "b63d6c4b-dcfe-4911-9aed-faccfaee4ecb",
   "metadata": {},
   "outputs": [
    {
     "name": "stdout",
     "output_type": "stream",
     "text": [
      "125/125 [==============================] - 0s 2ms/step\n"
     ]
    }
   ],
   "source": [
    "y_pred = model.predict(x_test)"
   ]
  },
  {
   "cell_type": "markdown",
   "id": "27cf1de5-a540-490b-a449-18756518fc22",
   "metadata": {},
   "source": [
    "**Hyperparameter Tuning**"
   ]
  },
  {
   "cell_type": "code",
   "execution_count": 29,
   "id": "fb18ff5d-8bfb-4d94-bcad-86cb29576254",
   "metadata": {},
   "outputs": [],
   "source": [
    "# pip install keras-tuner"
   ]
  },
  {
   "cell_type": "code",
   "execution_count": 30,
   "id": "f45fee35-649c-4479-a62b-1d8d777831cf",
   "metadata": {},
   "outputs": [],
   "source": [
    "# pip install tensorflow keras-tuner"
   ]
  },
  {
   "cell_type": "code",
   "execution_count": 31,
   "id": "5bb7c43d-c689-42ba-8827-dd00bb08cbbf",
   "metadata": {},
   "outputs": [],
   "source": [
    "# !pip install tensorflow==2.12.0  "
   ]
  },
  {
   "cell_type": "code",
   "execution_count": 32,
   "id": "0f70a555-69db-426f-a1d4-8d8928ebc27f",
   "metadata": {},
   "outputs": [],
   "source": [
    "# pip install keras"
   ]
  },
  {
   "cell_type": "code",
   "execution_count": 33,
   "id": "1715b369-c375-4b96-8a50-9d85a2ce562e",
   "metadata": {},
   "outputs": [],
   "source": [
    "import pandas as pd\n",
    "import numpy as np\n",
    "from sklearn.preprocessing import StandardScaler\n",
    "from sklearn.model_selection import train_test_split\n",
    "import tensorflow as tf\n",
    "from tensorflow.keras.models import Sequential\n",
    "from tensorflow.keras.layers import Dense\n",
    "import keras_tuner as kt"
   ]
  },
  {
   "cell_type": "code",
   "execution_count": 34,
   "id": "c5aae081-6a7d-462e-a1b3-38106f2c09f3",
   "metadata": {},
   "outputs": [],
   "source": [
    "def create_model(optimizer='adam', activation='relu'):\n",
    "    model = Sequential()\n",
    "    model.add(Dense(64, input_dim=x_train.shape[1], activation=activation))\n",
    "    model.add(Dense(32, activation=activation))\n",
    "    model.add(Dense(26, activation='softmax'))\n",
    "    model.compile(optimizer=optimizer, loss='sparse_categorical_crossentropy', metrics=['accuracy'])\n",
    "    return model"
   ]
  },
  {
   "cell_type": "code",
   "execution_count": 35,
   "id": "77347ee2-00ce-42f8-9163-9521d377fd36",
   "metadata": {},
   "outputs": [],
   "source": [
    "from sklearn.model_selection import GridSearchCV\n",
    "from tensorflow.keras.wrappers.scikit_learn import KerasClassifier\n"
   ]
  },
  {
   "cell_type": "code",
   "execution_count": 36,
   "id": "a9fa6622-e2a8-4fc3-8235-4384f9c02982",
   "metadata": {},
   "outputs": [
    {
     "name": "stderr",
     "output_type": "stream",
     "text": [
      "C:\\Users\\HP\\AppData\\Local\\Temp\\ipykernel_17088\\3006898904.py:1: DeprecationWarning: KerasClassifier is deprecated, use Sci-Keras (https://github.com/adriangb/scikeras) instead. See https://www.adriangb.com/scikeras/stable/migration.html for help migrating.\n",
      "  model = KerasClassifier(build_fn=create_model, epochs=50, batch_size=32, verbose=0)\n"
     ]
    }
   ],
   "source": [
    "model = KerasClassifier(build_fn=create_model, epochs=50, batch_size=32, verbose=0)\n"
   ]
  },
  {
   "cell_type": "code",
   "execution_count": 37,
   "id": "6cce5977-8792-49e6-851f-35749fa8e058",
   "metadata": {},
   "outputs": [],
   "source": [
    "\n",
    "\n",
    "param_grid = {\n",
    "    'optimizer': ['adam', 'rmsprop'],\n",
    "   'activation': ['relu', 'tanh'],\n",
    "    'batch_size': [32],\n",
    "    'epochs': [10]\n",
    "}\n",
    "\n",
    "# param_grid = {\n",
    "#     'optimizer': ['adam', 'rmsprop'],\n",
    "#     'activation': ['relu', 'tanh'],\n",
    "#     'batch_size': [16, 32],\n",
    "#     'epochs': [50, 100]\n",
    "# }"
   ]
  },
  {
   "cell_type": "code",
   "execution_count": 38,
   "id": "6dc1c3e4-7bb1-43ed-b36c-8c95ff1b7127",
   "metadata": {},
   "outputs": [
    {
     "data": {
      "text/html": [
       "<style>#sk-container-id-1 {color: black;background-color: white;}#sk-container-id-1 pre{padding: 0;}#sk-container-id-1 div.sk-toggleable {background-color: white;}#sk-container-id-1 label.sk-toggleable__label {cursor: pointer;display: block;width: 100%;margin-bottom: 0;padding: 0.3em;box-sizing: border-box;text-align: center;}#sk-container-id-1 label.sk-toggleable__label-arrow:before {content: \"▸\";float: left;margin-right: 0.25em;color: #696969;}#sk-container-id-1 label.sk-toggleable__label-arrow:hover:before {color: black;}#sk-container-id-1 div.sk-estimator:hover label.sk-toggleable__label-arrow:before {color: black;}#sk-container-id-1 div.sk-toggleable__content {max-height: 0;max-width: 0;overflow: hidden;text-align: left;background-color: #f0f8ff;}#sk-container-id-1 div.sk-toggleable__content pre {margin: 0.2em;color: black;border-radius: 0.25em;background-color: #f0f8ff;}#sk-container-id-1 input.sk-toggleable__control:checked~div.sk-toggleable__content {max-height: 200px;max-width: 100%;overflow: auto;}#sk-container-id-1 input.sk-toggleable__control:checked~label.sk-toggleable__label-arrow:before {content: \"▾\";}#sk-container-id-1 div.sk-estimator input.sk-toggleable__control:checked~label.sk-toggleable__label {background-color: #d4ebff;}#sk-container-id-1 div.sk-label input.sk-toggleable__control:checked~label.sk-toggleable__label {background-color: #d4ebff;}#sk-container-id-1 input.sk-hidden--visually {border: 0;clip: rect(1px 1px 1px 1px);clip: rect(1px, 1px, 1px, 1px);height: 1px;margin: -1px;overflow: hidden;padding: 0;position: absolute;width: 1px;}#sk-container-id-1 div.sk-estimator {font-family: monospace;background-color: #f0f8ff;border: 1px dotted black;border-radius: 0.25em;box-sizing: border-box;margin-bottom: 0.5em;}#sk-container-id-1 div.sk-estimator:hover {background-color: #d4ebff;}#sk-container-id-1 div.sk-parallel-item::after {content: \"\";width: 100%;border-bottom: 1px solid gray;flex-grow: 1;}#sk-container-id-1 div.sk-label:hover label.sk-toggleable__label {background-color: #d4ebff;}#sk-container-id-1 div.sk-serial::before {content: \"\";position: absolute;border-left: 1px solid gray;box-sizing: border-box;top: 0;bottom: 0;left: 50%;z-index: 0;}#sk-container-id-1 div.sk-serial {display: flex;flex-direction: column;align-items: center;background-color: white;padding-right: 0.2em;padding-left: 0.2em;position: relative;}#sk-container-id-1 div.sk-item {position: relative;z-index: 1;}#sk-container-id-1 div.sk-parallel {display: flex;align-items: stretch;justify-content: center;background-color: white;position: relative;}#sk-container-id-1 div.sk-item::before, #sk-container-id-1 div.sk-parallel-item::before {content: \"\";position: absolute;border-left: 1px solid gray;box-sizing: border-box;top: 0;bottom: 0;left: 50%;z-index: -1;}#sk-container-id-1 div.sk-parallel-item {display: flex;flex-direction: column;z-index: 1;position: relative;background-color: white;}#sk-container-id-1 div.sk-parallel-item:first-child::after {align-self: flex-end;width: 50%;}#sk-container-id-1 div.sk-parallel-item:last-child::after {align-self: flex-start;width: 50%;}#sk-container-id-1 div.sk-parallel-item:only-child::after {width: 0;}#sk-container-id-1 div.sk-dashed-wrapped {border: 1px dashed gray;margin: 0 0.4em 0.5em 0.4em;box-sizing: border-box;padding-bottom: 0.4em;background-color: white;}#sk-container-id-1 div.sk-label label {font-family: monospace;font-weight: bold;display: inline-block;line-height: 1.2em;}#sk-container-id-1 div.sk-label-container {text-align: center;}#sk-container-id-1 div.sk-container {/* jupyter's `normalize.less` sets `[hidden] { display: none; }` but bootstrap.min.css set `[hidden] { display: none !important; }` so we also need the `!important` here to be able to override the default hidden behavior on the sphinx rendered scikit-learn.org. See: https://github.com/scikit-learn/scikit-learn/issues/21755 */display: inline-block !important;position: relative;}#sk-container-id-1 div.sk-text-repr-fallback {display: none;}</style><div id=\"sk-container-id-1\" class=\"sk-top-container\"><div class=\"sk-text-repr-fallback\"><pre>GridSearchCV(cv=2,\n",
       "             estimator=&lt;keras.wrappers.scikit_learn.KerasClassifier object at 0x000001FD29A85950&gt;,\n",
       "             n_jobs=-1,\n",
       "             param_grid={&#x27;activation&#x27;: [&#x27;relu&#x27;, &#x27;tanh&#x27;], &#x27;batch_size&#x27;: [32],\n",
       "                         &#x27;epochs&#x27;: [10], &#x27;optimizer&#x27;: [&#x27;adam&#x27;, &#x27;rmsprop&#x27;]})</pre><b>In a Jupyter environment, please rerun this cell to show the HTML representation or trust the notebook. <br />On GitHub, the HTML representation is unable to render, please try loading this page with nbviewer.org.</b></div><div class=\"sk-container\" hidden><div class=\"sk-item sk-dashed-wrapped\"><div class=\"sk-label-container\"><div class=\"sk-label sk-toggleable\"><input class=\"sk-toggleable__control sk-hidden--visually\" id=\"sk-estimator-id-1\" type=\"checkbox\" ><label for=\"sk-estimator-id-1\" class=\"sk-toggleable__label sk-toggleable__label-arrow\">GridSearchCV</label><div class=\"sk-toggleable__content\"><pre>GridSearchCV(cv=2,\n",
       "             estimator=&lt;keras.wrappers.scikit_learn.KerasClassifier object at 0x000001FD29A85950&gt;,\n",
       "             n_jobs=-1,\n",
       "             param_grid={&#x27;activation&#x27;: [&#x27;relu&#x27;, &#x27;tanh&#x27;], &#x27;batch_size&#x27;: [32],\n",
       "                         &#x27;epochs&#x27;: [10], &#x27;optimizer&#x27;: [&#x27;adam&#x27;, &#x27;rmsprop&#x27;]})</pre></div></div></div><div class=\"sk-parallel\"><div class=\"sk-parallel-item\"><div class=\"sk-item\"><div class=\"sk-label-container\"><div class=\"sk-label sk-toggleable\"><input class=\"sk-toggleable__control sk-hidden--visually\" id=\"sk-estimator-id-2\" type=\"checkbox\" ><label for=\"sk-estimator-id-2\" class=\"sk-toggleable__label sk-toggleable__label-arrow\">estimator: KerasClassifier</label><div class=\"sk-toggleable__content\"><pre>&lt;keras.wrappers.scikit_learn.KerasClassifier object at 0x000001FD29A85950&gt;</pre></div></div></div><div class=\"sk-serial\"><div class=\"sk-item\"><div class=\"sk-estimator sk-toggleable\"><input class=\"sk-toggleable__control sk-hidden--visually\" id=\"sk-estimator-id-3\" type=\"checkbox\" ><label for=\"sk-estimator-id-3\" class=\"sk-toggleable__label sk-toggleable__label-arrow\">KerasClassifier</label><div class=\"sk-toggleable__content\"><pre>&lt;keras.wrappers.scikit_learn.KerasClassifier object at 0x000001FD29A85950&gt;</pre></div></div></div></div></div></div></div></div></div></div>"
      ],
      "text/plain": [
       "GridSearchCV(cv=2,\n",
       "             estimator=<keras.wrappers.scikit_learn.KerasClassifier object at 0x000001FD29A85950>,\n",
       "             n_jobs=-1,\n",
       "             param_grid={'activation': ['relu', 'tanh'], 'batch_size': [32],\n",
       "                         'epochs': [10], 'optimizer': ['adam', 'rmsprop']})"
      ]
     },
     "execution_count": 38,
     "metadata": {},
     "output_type": "execute_result"
    }
   ],
   "source": [
    "grid = GridSearchCV(estimator=model, param_grid=param_grid, n_jobs=-1, cv=2)\n",
    "grid_result = grid.fit(x_train, y_train)\n",
    "grid_result"
   ]
  },
  {
   "cell_type": "code",
   "execution_count": 39,
   "id": "c607aa4e-d0ee-4dfb-9a6f-e8672ea8616d",
   "metadata": {},
   "outputs": [
    {
     "name": "stdout",
     "output_type": "stream",
     "text": [
      "Best: 0.8478749990463257 using {'activation': 'relu', 'batch_size': 32, 'epochs': 10, 'optimizer': 'adam'}\n"
     ]
    }
   ],
   "source": [
    "print(f\"Best: {grid_result.best_score_} using {grid_result.best_params_}\")"
   ]
  },
  {
   "cell_type": "code",
   "execution_count": 40,
   "id": "394ef740-3f5a-4a90-a468-772ea4cd7d7e",
   "metadata": {},
   "outputs": [
    {
     "name": "stdout",
     "output_type": "stream",
     "text": [
      "125/125 [==============================] - 1s 2ms/step - loss: 0.3310 - accuracy: 0.9013\n",
      "Tuned Test Accuracy: 0.9012500047683716\n"
     ]
    }
   ],
   "source": [
    "best_model = grid_result.best_estimator_\n",
    "test_loss, test_acc = best_model.model.evaluate(x_test, y_test)\n",
    "print(f\"Tuned Test Accuracy: {test_acc}\")"
   ]
  },
  {
   "cell_type": "code",
   "execution_count": 41,
   "id": "151ae22c-76d7-4e04-b2cd-f7bb57bc8b1a",
   "metadata": {},
   "outputs": [
    {
     "name": "stdout",
     "output_type": "stream",
     "text": [
      "125/125 [==============================] - 0s 2ms/step\n"
     ]
    }
   ],
   "source": [
    "y_pred_tuned = best_model.model.predict(x_test)\n"
   ]
  },
  {
   "cell_type": "code",
   "execution_count": 42,
   "id": "c252f85a-009e-4c2e-bfe5-5fd0cc63699c",
   "metadata": {},
   "outputs": [],
   "source": [
    "from sklearn.metrics import classification_report, confusion_matrix"
   ]
  },
  {
   "cell_type": "code",
   "execution_count": 43,
   "id": "c86cb402-ee5f-432d-bcae-6cd919ef9403",
   "metadata": {},
   "outputs": [
    {
     "name": "stdout",
     "output_type": "stream",
     "text": [
      "              precision    recall  f1-score   support\n",
      "\n",
      "           0       0.91      0.93      0.92       149\n",
      "           1       0.90      0.88      0.89       153\n",
      "           2       0.89      0.91      0.90       137\n",
      "           3       0.84      0.91      0.87       156\n",
      "           4       0.88      0.91      0.89       141\n",
      "           5       0.80      0.89      0.84       140\n",
      "           6       0.93      0.86      0.89       160\n",
      "           7       0.80      0.72      0.76       144\n",
      "           8       0.93      0.87      0.90       146\n",
      "           9       0.97      0.86      0.91       149\n",
      "          10       0.83      0.84      0.84       130\n",
      "          11       0.94      0.94      0.94       155\n",
      "          12       0.91      0.96      0.94       168\n",
      "          13       0.89      0.91      0.90       151\n",
      "          14       0.84      0.92      0.88       145\n",
      "          15       0.96      0.86      0.91       173\n",
      "          16       0.96      0.93      0.94       166\n",
      "          17       0.79      0.91      0.85       160\n",
      "          18       0.90      0.84      0.87       171\n",
      "          19       0.92      0.93      0.92       163\n",
      "          20       0.95      0.92      0.94       183\n",
      "          21       0.96      0.93      0.95       158\n",
      "          22       0.96      0.95      0.96       148\n",
      "          23       0.92      0.95      0.94       154\n",
      "          24       0.95      0.93      0.94       168\n",
      "          25       0.90      0.95      0.93       132\n",
      "\n",
      "    accuracy                           0.90      4000\n",
      "   macro avg       0.90      0.90      0.90      4000\n",
      "weighted avg       0.90      0.90      0.90      4000\n",
      "\n",
      "[[138   0   0   1   0   0   0   0   0   0   1   0   3   1   0   0   0   2\n",
      "    1   0   0   0   1   0   1   0]\n",
      " [  0 135   0   5   0   0   1   4   0   0   0   0   0   1   0   0   0   4\n",
      "    2   0   0   1   0   0   0   0]\n",
      " [  0   0 124   0   0   0   2   2   0   0   0   1   0   0   3   0   1   2\n",
      "    0   1   1   0   0   0   0   0]\n",
      " [  1   4   0 142   0   0   0   3   0   0   1   0   1   1   2   0   0   0\n",
      "    0   1   0   0   0   0   0   0]\n",
      " [  0   0   2   0 128   0   4   0   0   0   1   3   0   0   0   0   1   0\n",
      "    0   0   0   0   0   1   0   1]\n",
      " [  0   0   1   0   3 125   0   0   3   0   0   0   0   1   0   3   0   0\n",
      "    1   3   0   0   0   0   0   0]\n",
      " [  0   0   5   4   0   0 138   0   0   0   6   0   0   1   2   0   0   1\n",
      "    1   0   0   2   0   0   0   0]\n",
      " [  0   2   1   3   0   0   0 104   0   1   9   0   0   7   2   1   0   8\n",
      "    0   0   3   1   0   1   1   0]\n",
      " [  0   0   0   3   0   3   0   0 127   2   0   1   0   0   0   1   1   0\n",
      "    3   0   0   0   0   5   0   0]\n",
      " [  3   0   0   1   1   2   0   0   5 128   0   0   0   0   2   0   0   1\n",
      "    3   0   0   0   0   0   0   3]\n",
      " [  1   0   1   0   1   0   0   3   0   0 109   0   0   0   0   0   0  12\n",
      "    0   0   0   0   0   3   0   0]\n",
      " [  0   0   1   0   1   0   2   0   0   0   0 146   0   1   0   0   1   0\n",
      "    1   0   0   0   0   1   0   1]\n",
      " [  3   0   0   0   0   0   0   1   0   0   0   0 161   0   3   0   0   0\n",
      "    0   0   0   0   0   0   0   0]\n",
      " [  1   0   1   0   0   1   0   0   0   0   0   0   3 137   5   0   0   2\n",
      "    0   0   0   0   1   0   0   0]\n",
      " [  0   0   0   3   0   0   0   3   0   1   0   0   0   0 134   0   1   0\n",
      "    0   0   1   0   2   0   0   0]\n",
      " [  0   2   1   0   0  17   0   0   0   0   0   1   0   0   1 148   0   0\n",
      "    1   0   0   0   0   0   2   0]\n",
      " [  0   1   0   1   2   0   0   1   0   0   0   0   0   0   2   0 154   0\n",
      "    0   1   0   1   0   0   1   2]\n",
      " [  0   4   0   2   0   1   0   2   0   0   2   1   0   3   0   0   0 145\n",
      "    0   0   0   0   0   0   0   0]\n",
      " [  0   2   0   0   7   5   1   0   1   0   0   1   0   0   0   0   2   1\n",
      "  143   2   0   0   0   1   1   4]\n",
      " [  0   0   1   2   1   0   1   1   0   0   0   0   0   0   0   0   0   1\n",
      "    0 152   1   1   0   0   0   2]\n",
      " [  1   0   1   0   0   0   0   2   0   0   1   0   5   0   3   0   0   0\n",
      "    0   0 169   0   1   0   0   0]\n",
      " [  1   0   0   1   0   0   0   2   0   0   0   0   0   0   0   1   0   2\n",
      "    0   0   1 147   1   0   2   0]\n",
      " [  0   0   0   0   0   0   0   0   0   0   0   0   3   1   1   0   0   0\n",
      "    0   0   2   0 141   0   0   0]\n",
      " [  0   0   0   1   1   0   0   0   0   0   1   0   0   0   0   0   0   1\n",
      "    0   2   0   0   0 147   0   1]\n",
      " [  2   0   0   0   0   2   0   2   0   0   0   0   0   0   0   0   0   0\n",
      "    0   4   0   0   0   1 157   0]\n",
      " [  0   0   0   0   1   0   0   0   0   0   0   1   0   0   0   0   0   1\n",
      "    3   0   0   0   0   0   0 126]]\n"
     ]
    }
   ],
   "source": [
    "print(classification_report(y_test, y_pred_tuned.argmax(axis=1)))\n",
    "print(confusion_matrix(y_test, y_pred_tuned.argmax(axis=1)))"
   ]
  },
  {
   "cell_type": "code",
   "execution_count": null,
   "id": "377c66d2-a21f-4edd-96e5-9528e0964718",
   "metadata": {},
   "outputs": [],
   "source": []
  },
  {
   "cell_type": "code",
   "execution_count": null,
   "id": "c5b58620-2e56-45ff-9dc3-9e0938b4c9e5",
   "metadata": {},
   "outputs": [],
   "source": []
  },
  {
   "cell_type": "code",
   "execution_count": null,
   "id": "6df18b70-52cb-4c39-b41d-9d027c8fe776",
   "metadata": {},
   "outputs": [],
   "source": []
  },
  {
   "cell_type": "code",
   "execution_count": null,
   "id": "ac19a972-f24c-4820-b3d1-e324de1409d0",
   "metadata": {},
   "outputs": [],
   "source": []
  }
 ],
 "metadata": {
  "kernelspec": {
   "display_name": "Python 3 (ipykernel)",
   "language": "python",
   "name": "python3"
  },
  "language_info": {
   "codemirror_mode": {
    "name": "ipython",
    "version": 3
   },
   "file_extension": ".py",
   "mimetype": "text/x-python",
   "name": "python",
   "nbconvert_exporter": "python",
   "pygments_lexer": "ipython3",
   "version": "3.11.7"
  }
 },
 "nbformat": 4,
 "nbformat_minor": 5
}
